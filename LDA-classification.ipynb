{
 "cells": [
  {
   "cell_type": "code",
   "execution_count": 6,
   "metadata": {},
   "outputs": [],
   "source": [
    "#LDA\n",
    "import numpy as np\n",
    "y_train = np.loadtxt('khan.ytrain')\n",
    "y_test = np.loadtxt('khan.ytest')\n",
    "x_train = np.loadtxt('khan.xtrain')\n",
    "x_test = np.loadtxt('khan.xtest')\n",
    "\n",
    "from sklearn.preprocessing import StandardScaler\n",
    "scaler = StandardScaler()\n",
    "scaler.fit(x_train)\n",
    "x_train = scaler.transform(x_train)"
   ]
  },
  {
   "cell_type": "code",
   "execution_count": null,
   "metadata": {},
   "outputs": [],
   "source": [
    "from sklearn.discriminant_analysis import LinearDiscriminantAnalysis\n",
    "#from sklearn.metrics import accuracy_score\n",
    "lamda = np.linspace(0.01,0.09,40)\n",
    "acc_train = np.zeros(40)\n",
    "acc_test = np.zeros(40)\n",
    "for i in range(40):\n",
    "    clf = LinearDiscriminantAnalysis(solver='eigen',shrinkage=lamda[i])\n",
    "    clf.fit(x_train.T, y_train)\n",
    "    clf.fit(x_test.T,y_test)\n",
    "    acc_train[i] = clf.score(x_train.T,y_train)\n",
    "    acc_test[i] = clf.score(x_test.T,y_test)\n",
    "\n",
    "lamda_optimal = np.argmax(acc_test)\n",
    "print(lamda_optimal)"
   ]
  },
  {
   "cell_type": "code",
   "execution_count": null,
   "metadata": {},
   "outputs": [],
   "source": [
    "from sklearn.model_selection import cross_validate\n",
    "from sklearn.utils import shuffle\n",
    "x_train,y_train = shuffle(x_train,y_train)\n",
    "acc_cv = np.zeros(40)\n",
    "for i in range(40):\n",
    "    clf = LinearDiscriminantAnalysis(solver='eigen',shrinkage=lamda[i])\n",
    "    acc_cv[i] = np.mean(cross_validate.scores(clf,x_train,y_train,cv=8))\n",
    "\n",
    "    #max lamda is np.argmax(acc_cv)"
   ]
  }
 ],
 "metadata": {
  "kernelspec": {
   "display_name": "Python 3",
   "language": "python",
   "name": "python3"
  },
  "language_info": {
   "codemirror_mode": {
    "name": "ipython",
    "version": 3
   },
   "file_extension": ".py",
   "mimetype": "text/x-python",
   "name": "python",
   "nbconvert_exporter": "python",
   "pygments_lexer": "ipython3",
   "version": "3.8.5"
  }
 },
 "nbformat": 4,
 "nbformat_minor": 4
}
